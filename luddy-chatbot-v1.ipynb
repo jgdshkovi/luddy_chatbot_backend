{
 "cells": [
  {
   "cell_type": "code",
   "execution_count": null,
   "id": "80d392d6-ee3e-4605-8cba-4dff68df337a",
   "metadata": {
    "execution": {
     "iopub.execute_input": "2025-04-16T19:12:47.091239Z",
     "iopub.status.busy": "2025-04-16T19:12:47.090981Z",
     "iopub.status.idle": "2025-04-16T19:14:03.628516Z",
     "shell.execute_reply": "2025-04-16T19:14:03.627601Z",
     "shell.execute_reply.started": "2025-04-16T19:12:47.091221Z"
    },
    "trusted": true
   },
   "outputs": [
    {
     "name": "stdout",
     "output_type": "stream",
     "text": [
      "Requirement already satisfied: langchain in /usr/local/lib/python3.11/dist-packages (0.3.18)\n",
      "Collecting faiss-cpu\n",
      "  Downloading faiss_cpu-1.10.0-cp311-cp311-manylinux_2_28_x86_64.whl.metadata (4.4 kB)\n",
      "Requirement already satisfied: sentence-transformers in /usr/local/lib/python3.11/dist-packages (3.4.1)\n",
      "Requirement already satisfied: langchain-core<1.0.0,>=0.3.34 in /usr/local/lib/python3.11/dist-packages (from langchain) (0.3.35)\n",
      "Requirement already satisfied: langchain-text-splitters<1.0.0,>=0.3.6 in /usr/local/lib/python3.11/dist-packages (from langchain) (0.3.6)\n",
      "Requirement already satisfied: langsmith<0.4,>=0.1.17 in /usr/local/lib/python3.11/dist-packages (from langchain) (0.3.8)\n",
      "Requirement already satisfied: pydantic<3.0.0,>=2.7.4 in /usr/local/lib/python3.11/dist-packages (from langchain) (2.11.3)\n",
      "Requirement already satisfied: SQLAlchemy<3,>=1.4 in /usr/local/lib/python3.11/dist-packages (from langchain) (2.0.38)\n",
      "Requirement already satisfied: requests<3,>=2 in /usr/local/lib/python3.11/dist-packages (from langchain) (2.32.3)\n",
      "Requirement already satisfied: PyYAML>=5.3 in /usr/local/lib/python3.11/dist-packages (from langchain) (6.0.2)\n",
      "Requirement already satisfied: aiohttp<4.0.0,>=3.8.3 in /usr/local/lib/python3.11/dist-packages (from langchain) (3.11.16)\n",
      "Requirement already satisfied: tenacity!=8.4.0,<10,>=8.1.0 in /usr/local/lib/python3.11/dist-packages (from langchain) (9.0.0)\n",
      "Requirement already satisfied: numpy<2,>=1.26.4 in /usr/local/lib/python3.11/dist-packages (from langchain) (1.26.4)\n",
      "Requirement already satisfied: packaging in /usr/local/lib/python3.11/dist-packages (from faiss-cpu) (24.2)\n",
      "Requirement already satisfied: transformers<5.0.0,>=4.41.0 in /usr/local/lib/python3.11/dist-packages (from sentence-transformers) (4.51.1)\n",
      "Requirement already satisfied: tqdm in /usr/local/lib/python3.11/dist-packages (from sentence-transformers) (4.67.1)\n",
      "Requirement already satisfied: torch>=1.11.0 in /usr/local/lib/python3.11/dist-packages (from sentence-transformers) (2.5.1+cu124)\n",
      "Requirement already satisfied: scikit-learn in /usr/local/lib/python3.11/dist-packages (from sentence-transformers) (1.2.2)\n",
      "Requirement already satisfied: scipy in /usr/local/lib/python3.11/dist-packages (from sentence-transformers) (1.15.2)\n",
      "Requirement already satisfied: huggingface-hub>=0.20.0 in /usr/local/lib/python3.11/dist-packages (from sentence-transformers) (0.30.2)\n",
      "Requirement already satisfied: Pillow in /usr/local/lib/python3.11/dist-packages (from sentence-transformers) (11.1.0)\n",
      "Requirement already satisfied: aiohappyeyeballs>=2.3.0 in /usr/local/lib/python3.11/dist-packages (from aiohttp<4.0.0,>=3.8.3->langchain) (2.6.1)\n",
      "Requirement already satisfied: aiosignal>=1.1.2 in /usr/local/lib/python3.11/dist-packages (from aiohttp<4.0.0,>=3.8.3->langchain) (1.3.2)\n",
      "Requirement already satisfied: attrs>=17.3.0 in /usr/local/lib/python3.11/dist-packages (from aiohttp<4.0.0,>=3.8.3->langchain) (25.3.0)\n",
      "Requirement already satisfied: frozenlist>=1.1.1 in /usr/local/lib/python3.11/dist-packages (from aiohttp<4.0.0,>=3.8.3->langchain) (1.5.0)\n",
      "Requirement already satisfied: multidict<7.0,>=4.5 in /usr/local/lib/python3.11/dist-packages (from aiohttp<4.0.0,>=3.8.3->langchain) (6.2.0)\n",
      "Requirement already satisfied: propcache>=0.2.0 in /usr/local/lib/python3.11/dist-packages (from aiohttp<4.0.0,>=3.8.3->langchain) (0.3.1)\n",
      "Requirement already satisfied: yarl<2.0,>=1.17.0 in /usr/local/lib/python3.11/dist-packages (from aiohttp<4.0.0,>=3.8.3->langchain) (1.19.0)\n",
      "Requirement already satisfied: filelock in /usr/local/lib/python3.11/dist-packages (from huggingface-hub>=0.20.0->sentence-transformers) (3.18.0)\n",
      "Requirement already satisfied: fsspec>=2023.5.0 in /usr/local/lib/python3.11/dist-packages (from huggingface-hub>=0.20.0->sentence-transformers) (2025.3.2)\n",
      "Requirement already satisfied: typing-extensions>=3.7.4.3 in /usr/local/lib/python3.11/dist-packages (from huggingface-hub>=0.20.0->sentence-transformers) (4.13.1)\n",
      "Requirement already satisfied: jsonpatch<2.0,>=1.33 in /usr/local/lib/python3.11/dist-packages (from langchain-core<1.0.0,>=0.3.34->langchain) (1.33)\n",
      "Requirement already satisfied: httpx<1,>=0.23.0 in /usr/local/lib/python3.11/dist-packages (from langsmith<0.4,>=0.1.17->langchain) (0.28.1)\n",
      "Requirement already satisfied: orjson<4.0.0,>=3.9.14 in /usr/local/lib/python3.11/dist-packages (from langsmith<0.4,>=0.1.17->langchain) (3.10.15)\n",
      "Requirement already satisfied: requests-toolbelt<2.0.0,>=1.0.0 in /usr/local/lib/python3.11/dist-packages (from langsmith<0.4,>=0.1.17->langchain) (1.0.0)\n",
      "Requirement already satisfied: zstandard<0.24.0,>=0.23.0 in /usr/local/lib/python3.11/dist-packages (from langsmith<0.4,>=0.1.17->langchain) (0.23.0)\n",
      "Requirement already satisfied: mkl_fft in /usr/local/lib/python3.11/dist-packages (from numpy<2,>=1.26.4->langchain) (1.3.8)\n",
      "Requirement already satisfied: mkl_random in /usr/local/lib/python3.11/dist-packages (from numpy<2,>=1.26.4->langchain) (1.2.4)\n",
      "Requirement already satisfied: mkl_umath in /usr/local/lib/python3.11/dist-packages (from numpy<2,>=1.26.4->langchain) (0.1.1)\n",
      "Requirement already satisfied: mkl in /usr/local/lib/python3.11/dist-packages (from numpy<2,>=1.26.4->langchain) (2025.1.0)\n",
      "Requirement already satisfied: tbb4py in /usr/local/lib/python3.11/dist-packages (from numpy<2,>=1.26.4->langchain) (2022.1.0)\n",
      "Requirement already satisfied: mkl-service in /usr/local/lib/python3.11/dist-packages (from numpy<2,>=1.26.4->langchain) (2.4.1)\n",
      "Requirement already satisfied: annotated-types>=0.6.0 in /usr/local/lib/python3.11/dist-packages (from pydantic<3.0.0,>=2.7.4->langchain) (0.7.0)\n",
      "Requirement already satisfied: pydantic-core==2.33.1 in /usr/local/lib/python3.11/dist-packages (from pydantic<3.0.0,>=2.7.4->langchain) (2.33.1)\n",
      "Requirement already satisfied: typing-inspection>=0.4.0 in /usr/local/lib/python3.11/dist-packages (from pydantic<3.0.0,>=2.7.4->langchain) (0.4.0)\n",
      "Requirement already satisfied: charset-normalizer<4,>=2 in /usr/local/lib/python3.11/dist-packages (from requests<3,>=2->langchain) (3.4.1)\n",
      "Requirement already satisfied: idna<4,>=2.5 in /usr/local/lib/python3.11/dist-packages (from requests<3,>=2->langchain) (3.10)\n",
      "Requirement already satisfied: urllib3<3,>=1.21.1 in /usr/local/lib/python3.11/dist-packages (from requests<3,>=2->langchain) (2.3.0)\n",
      "Requirement already satisfied: certifi>=2017.4.17 in /usr/local/lib/python3.11/dist-packages (from requests<3,>=2->langchain) (2025.1.31)\n",
      "Requirement already satisfied: greenlet!=0.4.17 in /usr/local/lib/python3.11/dist-packages (from SQLAlchemy<3,>=1.4->langchain) (3.1.1)\n",
      "Requirement already satisfied: networkx in /usr/local/lib/python3.11/dist-packages (from torch>=1.11.0->sentence-transformers) (3.4.2)\n",
      "Requirement already satisfied: jinja2 in /usr/local/lib/python3.11/dist-packages (from torch>=1.11.0->sentence-transformers) (3.1.6)\n",
      "Requirement already satisfied: nvidia-cuda-nvrtc-cu12==12.4.127 in /usr/local/lib/python3.11/dist-packages (from torch>=1.11.0->sentence-transformers) (12.4.127)\n",
      "Requirement already satisfied: nvidia-cuda-runtime-cu12==12.4.127 in /usr/local/lib/python3.11/dist-packages (from torch>=1.11.0->sentence-transformers) (12.4.127)\n",
      "Requirement already satisfied: nvidia-cuda-cupti-cu12==12.4.127 in /usr/local/lib/python3.11/dist-packages (from torch>=1.11.0->sentence-transformers) (12.4.127)\n",
      "Collecting nvidia-cudnn-cu12==9.1.0.70 (from torch>=1.11.0->sentence-transformers)\n",
      "  Downloading nvidia_cudnn_cu12-9.1.0.70-py3-none-manylinux2014_x86_64.whl.metadata (1.6 kB)\n",
      "Collecting nvidia-cublas-cu12==12.4.5.8 (from torch>=1.11.0->sentence-transformers)\n",
      "  Downloading nvidia_cublas_cu12-12.4.5.8-py3-none-manylinux2014_x86_64.whl.metadata (1.5 kB)\n",
      "Collecting nvidia-cufft-cu12==11.2.1.3 (from torch>=1.11.0->sentence-transformers)\n",
      "  Downloading nvidia_cufft_cu12-11.2.1.3-py3-none-manylinux2014_x86_64.whl.metadata (1.5 kB)\n",
      "Collecting nvidia-curand-cu12==10.3.5.147 (from torch>=1.11.0->sentence-transformers)\n",
      "  Downloading nvidia_curand_cu12-10.3.5.147-py3-none-manylinux2014_x86_64.whl.metadata (1.5 kB)\n",
      "Collecting nvidia-cusolver-cu12==11.6.1.9 (from torch>=1.11.0->sentence-transformers)\n",
      "  Downloading nvidia_cusolver_cu12-11.6.1.9-py3-none-manylinux2014_x86_64.whl.metadata (1.6 kB)\n",
      "Collecting nvidia-cusparse-cu12==12.3.1.170 (from torch>=1.11.0->sentence-transformers)\n",
      "  Downloading nvidia_cusparse_cu12-12.3.1.170-py3-none-manylinux2014_x86_64.whl.metadata (1.6 kB)\n",
      "Requirement already satisfied: nvidia-nccl-cu12==2.21.5 in /usr/local/lib/python3.11/dist-packages (from torch>=1.11.0->sentence-transformers) (2.21.5)\n",
      "Requirement already satisfied: nvidia-nvtx-cu12==12.4.127 in /usr/local/lib/python3.11/dist-packages (from torch>=1.11.0->sentence-transformers) (12.4.127)\n",
      "Collecting nvidia-nvjitlink-cu12==12.4.127 (from torch>=1.11.0->sentence-transformers)\n",
      "  Downloading nvidia_nvjitlink_cu12-12.4.127-py3-none-manylinux2014_x86_64.whl.metadata (1.5 kB)\n",
      "Requirement already satisfied: triton==3.1.0 in /usr/local/lib/python3.11/dist-packages (from torch>=1.11.0->sentence-transformers) (3.1.0)\n",
      "Requirement already satisfied: sympy==1.13.1 in /usr/local/lib/python3.11/dist-packages (from torch>=1.11.0->sentence-transformers) (1.13.1)\n",
      "Requirement already satisfied: mpmath<1.4,>=1.1.0 in /usr/local/lib/python3.11/dist-packages (from sympy==1.13.1->torch>=1.11.0->sentence-transformers) (1.3.0)\n",
      "Requirement already satisfied: regex!=2019.12.17 in /usr/local/lib/python3.11/dist-packages (from transformers<5.0.0,>=4.41.0->sentence-transformers) (2024.11.6)\n",
      "Requirement already satisfied: tokenizers<0.22,>=0.21 in /usr/local/lib/python3.11/dist-packages (from transformers<5.0.0,>=4.41.0->sentence-transformers) (0.21.0)\n",
      "Requirement already satisfied: safetensors>=0.4.3 in /usr/local/lib/python3.11/dist-packages (from transformers<5.0.0,>=4.41.0->sentence-transformers) (0.5.2)\n",
      "Requirement already satisfied: joblib>=1.1.1 in /usr/local/lib/python3.11/dist-packages (from scikit-learn->sentence-transformers) (1.4.2)\n",
      "Requirement already satisfied: threadpoolctl>=2.0.0 in /usr/local/lib/python3.11/dist-packages (from scikit-learn->sentence-transformers) (3.6.0)\n",
      "Requirement already satisfied: anyio in /usr/local/lib/python3.11/dist-packages (from httpx<1,>=0.23.0->langsmith<0.4,>=0.1.17->langchain) (3.7.1)\n",
      "Requirement already satisfied: httpcore==1.* in /usr/local/lib/python3.11/dist-packages (from httpx<1,>=0.23.0->langsmith<0.4,>=0.1.17->langchain) (1.0.7)\n",
      "Requirement already satisfied: h11<0.15,>=0.13 in /usr/local/lib/python3.11/dist-packages (from httpcore==1.*->httpx<1,>=0.23.0->langsmith<0.4,>=0.1.17->langchain) (0.14.0)\n",
      "Requirement already satisfied: jsonpointer>=1.9 in /usr/local/lib/python3.11/dist-packages (from jsonpatch<2.0,>=1.33->langchain-core<1.0.0,>=0.3.34->langchain) (3.0.0)\n",
      "Requirement already satisfied: MarkupSafe>=2.0 in /usr/local/lib/python3.11/dist-packages (from jinja2->torch>=1.11.0->sentence-transformers) (3.0.2)\n",
      "Requirement already satisfied: intel-openmp<2026,>=2024 in /usr/local/lib/python3.11/dist-packages (from mkl->numpy<2,>=1.26.4->langchain) (2024.2.0)\n",
      "Requirement already satisfied: tbb==2022.* in /usr/local/lib/python3.11/dist-packages (from mkl->numpy<2,>=1.26.4->langchain) (2022.1.0)\n",
      "Requirement already satisfied: tcmlib==1.* in /usr/local/lib/python3.11/dist-packages (from tbb==2022.*->mkl->numpy<2,>=1.26.4->langchain) (1.2.0)\n",
      "Requirement already satisfied: intel-cmplr-lib-rt in /usr/local/lib/python3.11/dist-packages (from mkl_umath->numpy<2,>=1.26.4->langchain) (2024.2.0)\n",
      "Requirement already satisfied: intel-cmplr-lib-ur==2024.2.0 in /usr/local/lib/python3.11/dist-packages (from intel-openmp<2026,>=2024->mkl->numpy<2,>=1.26.4->langchain) (2024.2.0)\n",
      "Requirement already satisfied: sniffio>=1.1 in /usr/local/lib/python3.11/dist-packages (from anyio->httpx<1,>=0.23.0->langsmith<0.4,>=0.1.17->langchain) (1.3.1)\n",
      "Downloading faiss_cpu-1.10.0-cp311-cp311-manylinux_2_28_x86_64.whl (30.7 MB)\n",
      "\u001b[2K   \u001b[90m━━━━━━━━━━━━━━━━━━━━━━━━━━━━━━━━━━━━━━━━\u001b[0m \u001b[32m30.7/30.7 MB\u001b[0m \u001b[31m53.0 MB/s\u001b[0m eta \u001b[36m0:00:00\u001b[0m:00:01\u001b[0m00:01\u001b[0m\n",
      "\u001b[?25hDownloading nvidia_cublas_cu12-12.4.5.8-py3-none-manylinux2014_x86_64.whl (363.4 MB)\n",
      "\u001b[2K   \u001b[90m━━━━━━━━━━━━━━━━━━━━━━━━━━━━━━━━━━━━━━━━\u001b[0m \u001b[32m363.4/363.4 MB\u001b[0m \u001b[31m4.7 MB/s\u001b[0m eta \u001b[36m0:00:00\u001b[0m0:00:01\u001b[0m00:01\u001b[0m\n",
      "\u001b[?25hDownloading nvidia_cudnn_cu12-9.1.0.70-py3-none-manylinux2014_x86_64.whl (664.8 MB)\n",
      "\u001b[2K   \u001b[90m━━━━━━━━━━━━━━━━━━━━━━━━━━━━━━━━━━━━━━━━\u001b[0m \u001b[32m664.8/664.8 MB\u001b[0m \u001b[31m2.5 MB/s\u001b[0m eta \u001b[36m0:00:00\u001b[0m0:00:01\u001b[0m00:01\u001b[0m\n",
      "\u001b[?25hDownloading nvidia_cufft_cu12-11.2.1.3-py3-none-manylinux2014_x86_64.whl (211.5 MB)\n",
      "\u001b[2K   \u001b[90m━━━━━━━━━━━━━━━━━━━━━━━━━━━━━━━━━━━━━━━━\u001b[0m \u001b[32m211.5/211.5 MB\u001b[0m \u001b[31m6.1 MB/s\u001b[0m eta \u001b[36m0:00:00\u001b[0m0:00:01\u001b[0m00:01\u001b[0m\n",
      "\u001b[?25hDownloading nvidia_curand_cu12-10.3.5.147-py3-none-manylinux2014_x86_64.whl (56.3 MB)\n",
      "\u001b[2K   \u001b[90m━━━━━━━━━━━━━━━━━━━━━━━━━━━━━━━━━━━━━━━━\u001b[0m \u001b[32m56.3/56.3 MB\u001b[0m \u001b[31m26.2 MB/s\u001b[0m eta \u001b[36m0:00:00\u001b[0m00:01\u001b[0m00:01\u001b[0mm\n",
      "\u001b[?25hDownloading nvidia_cusolver_cu12-11.6.1.9-py3-none-manylinux2014_x86_64.whl (127.9 MB)\n",
      "\u001b[2K   \u001b[90m━━━━━━━━━━━━━━━━━━━━━━━━━━━━━━━━━━━━━━━━\u001b[0m \u001b[32m127.9/127.9 MB\u001b[0m \u001b[31m6.8 MB/s\u001b[0m eta \u001b[36m0:00:00\u001b[0m0:00:01\u001b[0m0:01\u001b[0mm\n",
      "\u001b[?25hDownloading nvidia_cusparse_cu12-12.3.1.170-py3-none-manylinux2014_x86_64.whl (207.5 MB)\n",
      "\u001b[2K   \u001b[90m━━━━━━━━━━━━━━━━━━━━━━━━━━━━━━━━━━━━━━━━\u001b[0m \u001b[32m207.5/207.5 MB\u001b[0m \u001b[31m2.4 MB/s\u001b[0m eta \u001b[36m0:00:00\u001b[0m0:00:01\u001b[0m00:01\u001b[0m\n",
      "\u001b[?25hDownloading nvidia_nvjitlink_cu12-12.4.127-py3-none-manylinux2014_x86_64.whl (21.1 MB)\n",
      "\u001b[2K   \u001b[90m━━━━━━━━━━━━━━━━━━━━━━━━━━━━━━━━━━━━━━━━\u001b[0m \u001b[32m21.1/21.1 MB\u001b[0m \u001b[31m90.5 MB/s\u001b[0m eta \u001b[36m0:00:00\u001b[0m:00:01\u001b[0m00:01\u001b[0m\n",
      "\u001b[?25hInstalling collected packages: nvidia-nvjitlink-cu12, nvidia-curand-cu12, nvidia-cufft-cu12, nvidia-cublas-cu12, nvidia-cusparse-cu12, nvidia-cudnn-cu12, nvidia-cusolver-cu12, faiss-cpu\n",
      "  Attempting uninstall: nvidia-nvjitlink-cu12\n",
      "    Found existing installation: nvidia-nvjitlink-cu12 12.8.93\n",
      "    Uninstalling nvidia-nvjitlink-cu12-12.8.93:\n",
      "      Successfully uninstalled nvidia-nvjitlink-cu12-12.8.93\n",
      "  Attempting uninstall: nvidia-curand-cu12\n",
      "    Found existing installation: nvidia-curand-cu12 10.3.9.90\n",
      "    Uninstalling nvidia-curand-cu12-10.3.9.90:\n",
      "      Successfully uninstalled nvidia-curand-cu12-10.3.9.90\n",
      "  Attempting uninstall: nvidia-cufft-cu12\n",
      "    Found existing installation: nvidia-cufft-cu12 11.3.3.83\n",
      "    Uninstalling nvidia-cufft-cu12-11.3.3.83:\n",
      "      Successfully uninstalled nvidia-cufft-cu12-11.3.3.83\n",
      "  Attempting uninstall: nvidia-cublas-cu12\n",
      "    Found existing installation: nvidia-cublas-cu12 12.8.4.1\n",
      "    Uninstalling nvidia-cublas-cu12-12.8.4.1:\n",
      "      Successfully uninstalled nvidia-cublas-cu12-12.8.4.1\n",
      "  Attempting uninstall: nvidia-cusparse-cu12\n",
      "    Found existing installation: nvidia-cusparse-cu12 12.5.8.93\n",
      "    Uninstalling nvidia-cusparse-cu12-12.5.8.93:\n",
      "      Successfully uninstalled nvidia-cusparse-cu12-12.5.8.93\n",
      "  Attempting uninstall: nvidia-cudnn-cu12\n",
      "    Found existing installation: nvidia-cudnn-cu12 9.3.0.75\n",
      "    Uninstalling nvidia-cudnn-cu12-9.3.0.75:\n",
      "      Successfully uninstalled nvidia-cudnn-cu12-9.3.0.75\n",
      "  Attempting uninstall: nvidia-cusolver-cu12\n",
      "    Found existing installation: nvidia-cusolver-cu12 11.7.3.90\n",
      "    Uninstalling nvidia-cusolver-cu12-11.7.3.90:\n",
      "      Successfully uninstalled nvidia-cusolver-cu12-11.7.3.90\n",
      "\u001b[31mERROR: pip's dependency resolver does not currently take into account all the packages that are installed. This behaviour is the source of the following dependency conflicts.\n",
      "pylibcugraph-cu12 24.12.0 requires pylibraft-cu12==24.12.*, but you have pylibraft-cu12 25.2.0 which is incompatible.\n",
      "pylibcugraph-cu12 24.12.0 requires rmm-cu12==24.12.*, but you have rmm-cu12 25.2.0 which is incompatible.\u001b[0m\u001b[31m\n",
      "\u001b[0mSuccessfully installed faiss-cpu-1.10.0 nvidia-cublas-cu12-12.4.5.8 nvidia-cudnn-cu12-9.1.0.70 nvidia-cufft-cu12-11.2.1.3 nvidia-curand-cu12-10.3.5.147 nvidia-cusolver-cu12-11.6.1.9 nvidia-cusparse-cu12-12.3.1.170 nvidia-nvjitlink-cu12-12.4.127\n"
     ]
    }
   ],
   "source": [
    "# !pip install langchain faiss-cpu sentence-transformers groq"
   ]
  },
  {
   "cell_type": "code",
   "execution_count": null,
   "id": "062f859c-5f64-4e69-a511-198074ccae9f",
   "metadata": {
    "execution": {
     "iopub.execute_input": "2025-04-16T19:14:03.630446Z",
     "iopub.status.busy": "2025-04-16T19:14:03.630154Z",
     "iopub.status.idle": "2025-04-16T19:14:12.536748Z",
     "shell.execute_reply": "2025-04-16T19:14:12.536082Z",
     "shell.execute_reply.started": "2025-04-16T19:14:03.630424Z"
    },
    "trusted": true
   },
   "outputs": [
    {
     "name": "stdout",
     "output_type": "stream",
     "text": [
      "Collecting langchain-community\n",
      "  Downloading langchain_community-0.3.21-py3-none-any.whl.metadata (2.4 kB)\n",
      "Collecting langchain-core<1.0.0,>=0.3.51 (from langchain-community)\n",
      "  Downloading langchain_core-0.3.52-py3-none-any.whl.metadata (5.9 kB)\n",
      "Collecting langchain<1.0.0,>=0.3.23 (from langchain-community)\n",
      "  Downloading langchain-0.3.23-py3-none-any.whl.metadata (7.8 kB)\n",
      "Requirement already satisfied: SQLAlchemy<3,>=1.4 in /usr/local/lib/python3.11/dist-packages (from langchain-community) (2.0.38)\n",
      "Requirement already satisfied: requests<3,>=2 in /usr/local/lib/python3.11/dist-packages (from langchain-community) (2.32.3)\n",
      "Requirement already satisfied: PyYAML>=5.3 in /usr/local/lib/python3.11/dist-packages (from langchain-community) (6.0.2)\n",
      "Requirement already satisfied: aiohttp<4.0.0,>=3.8.3 in /usr/local/lib/python3.11/dist-packages (from langchain-community) (3.11.16)\n",
      "Requirement already satisfied: tenacity!=8.4.0,<10,>=8.1.0 in /usr/local/lib/python3.11/dist-packages (from langchain-community) (9.0.0)\n",
      "Requirement already satisfied: dataclasses-json<0.7,>=0.5.7 in /usr/local/lib/python3.11/dist-packages (from langchain-community) (0.6.7)\n",
      "Collecting pydantic-settings<3.0.0,>=2.4.0 (from langchain-community)\n",
      "  Downloading pydantic_settings-2.8.1-py3-none-any.whl.metadata (3.5 kB)\n",
      "Requirement already satisfied: langsmith<0.4,>=0.1.125 in /usr/local/lib/python3.11/dist-packages (from langchain-community) (0.3.8)\n",
      "Collecting httpx-sse<1.0.0,>=0.4.0 (from langchain-community)\n",
      "  Downloading httpx_sse-0.4.0-py3-none-any.whl.metadata (9.0 kB)\n",
      "Requirement already satisfied: numpy<3,>=1.26.2 in /usr/local/lib/python3.11/dist-packages (from langchain-community) (1.26.4)\n",
      "Requirement already satisfied: aiohappyeyeballs>=2.3.0 in /usr/local/lib/python3.11/dist-packages (from aiohttp<4.0.0,>=3.8.3->langchain-community) (2.6.1)\n",
      "Requirement already satisfied: aiosignal>=1.1.2 in /usr/local/lib/python3.11/dist-packages (from aiohttp<4.0.0,>=3.8.3->langchain-community) (1.3.2)\n",
      "Requirement already satisfied: attrs>=17.3.0 in /usr/local/lib/python3.11/dist-packages (from aiohttp<4.0.0,>=3.8.3->langchain-community) (25.3.0)\n",
      "Requirement already satisfied: frozenlist>=1.1.1 in /usr/local/lib/python3.11/dist-packages (from aiohttp<4.0.0,>=3.8.3->langchain-community) (1.5.0)\n",
      "Requirement already satisfied: multidict<7.0,>=4.5 in /usr/local/lib/python3.11/dist-packages (from aiohttp<4.0.0,>=3.8.3->langchain-community) (6.2.0)\n",
      "Requirement already satisfied: propcache>=0.2.0 in /usr/local/lib/python3.11/dist-packages (from aiohttp<4.0.0,>=3.8.3->langchain-community) (0.3.1)\n",
      "Requirement already satisfied: yarl<2.0,>=1.17.0 in /usr/local/lib/python3.11/dist-packages (from aiohttp<4.0.0,>=3.8.3->langchain-community) (1.19.0)\n",
      "Requirement already satisfied: marshmallow<4.0.0,>=3.18.0 in /usr/local/lib/python3.11/dist-packages (from dataclasses-json<0.7,>=0.5.7->langchain-community) (3.26.1)\n",
      "Requirement already satisfied: typing-inspect<1,>=0.4.0 in /usr/local/lib/python3.11/dist-packages (from dataclasses-json<0.7,>=0.5.7->langchain-community) (0.9.0)\n",
      "Collecting langchain-text-splitters<1.0.0,>=0.3.8 (from langchain<1.0.0,>=0.3.23->langchain-community)\n",
      "  Downloading langchain_text_splitters-0.3.8-py3-none-any.whl.metadata (1.9 kB)\n",
      "Requirement already satisfied: pydantic<3.0.0,>=2.7.4 in /usr/local/lib/python3.11/dist-packages (from langchain<1.0.0,>=0.3.23->langchain-community) (2.11.3)\n",
      "Requirement already satisfied: jsonpatch<2.0,>=1.33 in /usr/local/lib/python3.11/dist-packages (from langchain-core<1.0.0,>=0.3.51->langchain-community) (1.33)\n",
      "Requirement already satisfied: packaging<25,>=23.2 in /usr/local/lib/python3.11/dist-packages (from langchain-core<1.0.0,>=0.3.51->langchain-community) (24.2)\n",
      "Requirement already satisfied: typing-extensions>=4.7 in /usr/local/lib/python3.11/dist-packages (from langchain-core<1.0.0,>=0.3.51->langchain-community) (4.13.1)\n",
      "Requirement already satisfied: httpx<1,>=0.23.0 in /usr/local/lib/python3.11/dist-packages (from langsmith<0.4,>=0.1.125->langchain-community) (0.28.1)\n",
      "Requirement already satisfied: orjson<4.0.0,>=3.9.14 in /usr/local/lib/python3.11/dist-packages (from langsmith<0.4,>=0.1.125->langchain-community) (3.10.15)\n",
      "Requirement already satisfied: requests-toolbelt<2.0.0,>=1.0.0 in /usr/local/lib/python3.11/dist-packages (from langsmith<0.4,>=0.1.125->langchain-community) (1.0.0)\n",
      "Requirement already satisfied: zstandard<0.24.0,>=0.23.0 in /usr/local/lib/python3.11/dist-packages (from langsmith<0.4,>=0.1.125->langchain-community) (0.23.0)\n",
      "Requirement already satisfied: mkl_fft in /usr/local/lib/python3.11/dist-packages (from numpy<3,>=1.26.2->langchain-community) (1.3.8)\n",
      "Requirement already satisfied: mkl_random in /usr/local/lib/python3.11/dist-packages (from numpy<3,>=1.26.2->langchain-community) (1.2.4)\n",
      "Requirement already satisfied: mkl_umath in /usr/local/lib/python3.11/dist-packages (from numpy<3,>=1.26.2->langchain-community) (0.1.1)\n",
      "Requirement already satisfied: mkl in /usr/local/lib/python3.11/dist-packages (from numpy<3,>=1.26.2->langchain-community) (2025.1.0)\n",
      "Requirement already satisfied: tbb4py in /usr/local/lib/python3.11/dist-packages (from numpy<3,>=1.26.2->langchain-community) (2022.1.0)\n",
      "Requirement already satisfied: mkl-service in /usr/local/lib/python3.11/dist-packages (from numpy<3,>=1.26.2->langchain-community) (2.4.1)\n",
      "Collecting python-dotenv>=0.21.0 (from pydantic-settings<3.0.0,>=2.4.0->langchain-community)\n",
      "  Downloading python_dotenv-1.1.0-py3-none-any.whl.metadata (24 kB)\n",
      "Requirement already satisfied: charset-normalizer<4,>=2 in /usr/local/lib/python3.11/dist-packages (from requests<3,>=2->langchain-community) (3.4.1)\n",
      "Requirement already satisfied: idna<4,>=2.5 in /usr/local/lib/python3.11/dist-packages (from requests<3,>=2->langchain-community) (3.10)\n",
      "Requirement already satisfied: urllib3<3,>=1.21.1 in /usr/local/lib/python3.11/dist-packages (from requests<3,>=2->langchain-community) (2.3.0)\n",
      "Requirement already satisfied: certifi>=2017.4.17 in /usr/local/lib/python3.11/dist-packages (from requests<3,>=2->langchain-community) (2025.1.31)\n",
      "Requirement already satisfied: greenlet!=0.4.17 in /usr/local/lib/python3.11/dist-packages (from SQLAlchemy<3,>=1.4->langchain-community) (3.1.1)\n",
      "Requirement already satisfied: anyio in /usr/local/lib/python3.11/dist-packages (from httpx<1,>=0.23.0->langsmith<0.4,>=0.1.125->langchain-community) (3.7.1)\n",
      "Requirement already satisfied: httpcore==1.* in /usr/local/lib/python3.11/dist-packages (from httpx<1,>=0.23.0->langsmith<0.4,>=0.1.125->langchain-community) (1.0.7)\n",
      "Requirement already satisfied: h11<0.15,>=0.13 in /usr/local/lib/python3.11/dist-packages (from httpcore==1.*->httpx<1,>=0.23.0->langsmith<0.4,>=0.1.125->langchain-community) (0.14.0)\n",
      "Requirement already satisfied: jsonpointer>=1.9 in /usr/local/lib/python3.11/dist-packages (from jsonpatch<2.0,>=1.33->langchain-core<1.0.0,>=0.3.51->langchain-community) (3.0.0)\n",
      "Requirement already satisfied: annotated-types>=0.6.0 in /usr/local/lib/python3.11/dist-packages (from pydantic<3.0.0,>=2.7.4->langchain<1.0.0,>=0.3.23->langchain-community) (0.7.0)\n",
      "Requirement already satisfied: pydantic-core==2.33.1 in /usr/local/lib/python3.11/dist-packages (from pydantic<3.0.0,>=2.7.4->langchain<1.0.0,>=0.3.23->langchain-community) (2.33.1)\n",
      "Requirement already satisfied: typing-inspection>=0.4.0 in /usr/local/lib/python3.11/dist-packages (from pydantic<3.0.0,>=2.7.4->langchain<1.0.0,>=0.3.23->langchain-community) (0.4.0)\n",
      "Requirement already satisfied: mypy-extensions>=0.3.0 in /usr/local/lib/python3.11/dist-packages (from typing-inspect<1,>=0.4.0->dataclasses-json<0.7,>=0.5.7->langchain-community) (1.0.0)\n",
      "Requirement already satisfied: intel-openmp<2026,>=2024 in /usr/local/lib/python3.11/dist-packages (from mkl->numpy<3,>=1.26.2->langchain-community) (2024.2.0)\n",
      "Requirement already satisfied: tbb==2022.* in /usr/local/lib/python3.11/dist-packages (from mkl->numpy<3,>=1.26.2->langchain-community) (2022.1.0)\n",
      "Requirement already satisfied: tcmlib==1.* in /usr/local/lib/python3.11/dist-packages (from tbb==2022.*->mkl->numpy<3,>=1.26.2->langchain-community) (1.2.0)\n",
      "Requirement already satisfied: intel-cmplr-lib-rt in /usr/local/lib/python3.11/dist-packages (from mkl_umath->numpy<3,>=1.26.2->langchain-community) (2024.2.0)\n",
      "Requirement already satisfied: intel-cmplr-lib-ur==2024.2.0 in /usr/local/lib/python3.11/dist-packages (from intel-openmp<2026,>=2024->mkl->numpy<3,>=1.26.2->langchain-community) (2024.2.0)\n",
      "Requirement already satisfied: sniffio>=1.1 in /usr/local/lib/python3.11/dist-packages (from anyio->httpx<1,>=0.23.0->langsmith<0.4,>=0.1.125->langchain-community) (1.3.1)\n",
      "Downloading langchain_community-0.3.21-py3-none-any.whl (2.5 MB)\n",
      "\u001b[2K   \u001b[90m━━━━━━━━━━━━━━━━━━━━━━━━━━━━━━━━━━━━━━━━\u001b[0m \u001b[32m2.5/2.5 MB\u001b[0m \u001b[31m70.5 MB/s\u001b[0m eta \u001b[36m0:00:00\u001b[0m:00:01\u001b[0m\n",
      "\u001b[?25hDownloading httpx_sse-0.4.0-py3-none-any.whl (7.8 kB)\n",
      "Downloading langchain-0.3.23-py3-none-any.whl (1.0 MB)\n",
      "\u001b[2K   \u001b[90m━━━━━━━━━━━━━━━━━━━━━━━━━━━━━━━━━━━━━━━━\u001b[0m \u001b[32m1.0/1.0 MB\u001b[0m \u001b[31m49.9 MB/s\u001b[0m eta \u001b[36m0:00:00\u001b[0m\n",
      "\u001b[?25hDownloading langchain_core-0.3.52-py3-none-any.whl (433 kB)\n",
      "\u001b[2K   \u001b[90m━━━━━━━━━━━━━━━━━━━━━━━━━━━━━━━━━━━━━━━━\u001b[0m \u001b[32m433.6/433.6 kB\u001b[0m \u001b[31m31.6 MB/s\u001b[0m eta \u001b[36m0:00:00\u001b[0m\n",
      "\u001b[?25hDownloading pydantic_settings-2.8.1-py3-none-any.whl (30 kB)\n",
      "Downloading langchain_text_splitters-0.3.8-py3-none-any.whl (32 kB)\n",
      "Downloading python_dotenv-1.1.0-py3-none-any.whl (20 kB)\n",
      "Installing collected packages: python-dotenv, httpx-sse, pydantic-settings, langchain-core, langchain-text-splitters, langchain, langchain-community\n",
      "  Attempting uninstall: langchain-core\n",
      "    Found existing installation: langchain-core 0.3.35\n",
      "    Uninstalling langchain-core-0.3.35:\n",
      "      Successfully uninstalled langchain-core-0.3.35\n",
      "  Attempting uninstall: langchain-text-splitters\n",
      "    Found existing installation: langchain-text-splitters 0.3.6\n",
      "    Uninstalling langchain-text-splitters-0.3.6:\n",
      "      Successfully uninstalled langchain-text-splitters-0.3.6\n",
      "  Attempting uninstall: langchain\n",
      "    Found existing installation: langchain 0.3.18\n",
      "    Uninstalling langchain-0.3.18:\n",
      "      Successfully uninstalled langchain-0.3.18\n",
      "Successfully installed httpx-sse-0.4.0 langchain-0.3.23 langchain-community-0.3.21 langchain-core-0.3.52 langchain-text-splitters-0.3.8 pydantic-settings-2.8.1 python-dotenv-1.1.0\n"
     ]
    }
   ],
   "source": [
    "# !pip install -U langchain-community"
   ]
  },
  {
   "cell_type": "code",
   "execution_count": 1,
   "id": "58d4e43a-2d0a-440d-b1c1-e020090aeeb1",
   "metadata": {
    "execution": {
     "iopub.execute_input": "2025-04-16T19:16:32.176870Z",
     "iopub.status.busy": "2025-04-16T19:16:32.176181Z",
     "iopub.status.idle": "2025-04-16T19:17:00.872379Z",
     "shell.execute_reply": "2025-04-16T19:17:00.871777Z",
     "shell.execute_reply.started": "2025-04-16T19:16:32.176837Z"
    },
    "trusted": true
   },
   "outputs": [
    {
     "name": "stderr",
     "output_type": "stream",
     "text": [
      "c:\\Users\\jgdsh\\Desktop\\SP25\\LLM Course\\Final\\.final\\lib\\site-packages\\tqdm\\auto.py:21: TqdmWarning: IProgress not found. Please update jupyter and ipywidgets. See https://ipywidgets.readthedocs.io/en/stable/user_install.html\n",
      "  from .autonotebook import tqdm as notebook_tqdm\n"
     ]
    }
   ],
   "source": [
    "import os\n",
    "from langchain.document_loaders import TextLoader\n",
    "from langchain.text_splitter import RecursiveCharacterTextSplitter\n",
    "from langchain.embeddings import HuggingFaceEmbeddings\n",
    "from langchain.vectorstores import FAISS\n",
    "from sentence_transformers import CrossEncoder\n",
    "from groq import Groq"
   ]
  },
  {
   "cell_type": "code",
   "execution_count": 2,
   "id": "82563ff9-d7f7-46f9-a18b-5bede58955ef",
   "metadata": {
    "execution": {
     "iopub.execute_input": "2025-04-16T19:17:00.874185Z",
     "iopub.status.busy": "2025-04-16T19:17:00.873522Z",
     "iopub.status.idle": "2025-04-16T19:17:00.878321Z",
     "shell.execute_reply": "2025-04-16T19:17:00.877596Z",
     "shell.execute_reply.started": "2025-04-16T19:17:00.874166Z"
    },
    "trusted": true
   },
   "outputs": [],
   "source": [
    "# === PATH TO FOLDER ===\n",
    "folder_path = \"Final_scraped_txts\"  \n",
    "\n",
    "# === LOAD TEXT FILES ===\n",
    "def load_documents_from_folder(folder_path):\n",
    "    documents = []\n",
    "    for file_name in os.listdir(folder_path):\n",
    "        if file_name.endswith(\".txt\"):\n",
    "            file_path = os.path.join(folder_path, file_name)\n",
    "            loader = TextLoader(file_path, encoding='utf-8')\n",
    "            documents.extend(loader.load())\n",
    "    return documents\n"
   ]
  },
  {
   "cell_type": "code",
   "execution_count": 3,
   "id": "29b48043-a851-422e-93ab-899626d44aeb",
   "metadata": {
    "execution": {
     "iopub.execute_input": "2025-04-16T19:17:00.879300Z",
     "iopub.status.busy": "2025-04-16T19:17:00.879018Z",
     "iopub.status.idle": "2025-04-16T19:17:01.158500Z",
     "shell.execute_reply": "2025-04-16T19:17:01.157831Z",
     "shell.execute_reply.started": "2025-04-16T19:17:00.879274Z"
    },
    "trusted": true
   },
   "outputs": [],
   "source": [
    "# === SPLIT INTO CHUNKS ===\n",
    "def split_documents(docs, chunk_size=1000, chunk_overlap=100):\n",
    "    splitter = RecursiveCharacterTextSplitter(chunk_size=chunk_size, chunk_overlap=chunk_overlap)\n",
    "    return splitter.split_documents(docs)\n"
   ]
  },
  {
   "cell_type": "code",
   "execution_count": 4,
   "id": "9f77fb2c-97d6-4b5c-bf02-38f021ebc2ad",
   "metadata": {
    "execution": {
     "iopub.execute_input": "2025-04-16T19:17:01.981205Z",
     "iopub.status.busy": "2025-04-16T19:17:01.980722Z",
     "iopub.status.idle": "2025-04-16T19:17:01.985019Z",
     "shell.execute_reply": "2025-04-16T19:17:01.984288Z",
     "shell.execute_reply.started": "2025-04-16T19:17:01.981184Z"
    },
    "trusted": true
   },
   "outputs": [],
   "source": [
    "# === EMBEDDINGS SETUP ===\n",
    "def get_embedding_model():\n",
    "    return HuggingFaceEmbeddings(model_name=\"sentence-transformers/all-MiniLM-L6-v2\")\n"
   ]
  },
  {
   "cell_type": "code",
   "execution_count": 5,
   "id": "611463cd-f8b5-4bc0-bb5f-c8ec50ecdf35",
   "metadata": {
    "execution": {
     "iopub.execute_input": "2025-04-16T19:17:02.391479Z",
     "iopub.status.busy": "2025-04-16T19:17:02.391240Z",
     "iopub.status.idle": "2025-04-16T19:17:02.395573Z",
     "shell.execute_reply": "2025-04-16T19:17:02.394999Z",
     "shell.execute_reply.started": "2025-04-16T19:17:02.391455Z"
    },
    "trusted": true
   },
   "outputs": [],
   "source": [
    "# === SAVE TO FAISS ===\n",
    "def save_to_faiss(split_docs, embeddings, index_path=\"faiss_index_luddy\"):\n",
    "    db = FAISS.from_documents(split_docs, embeddings)\n",
    "    db.save_local(index_path)\n",
    "    print(f\"✅ FAISS index saved to '{index_path}'\")\n"
   ]
  },
  {
   "cell_type": "code",
   "execution_count": 6,
   "id": "0bb22d20-2507-49f8-b41e-429df0868113",
   "metadata": {
    "execution": {
     "iopub.execute_input": "2025-04-16T19:17:06.127494Z",
     "iopub.status.busy": "2025-04-16T19:17:06.126932Z",
     "iopub.status.idle": "2025-04-16T19:17:10.492143Z",
     "shell.execute_reply": "2025-04-16T19:17:10.491460Z",
     "shell.execute_reply.started": "2025-04-16T19:17:06.127469Z"
    },
    "trusted": true
   },
   "outputs": [
    {
     "name": "stdout",
     "output_type": "stream",
     "text": [
      "📄 Loaded 633 documents.\n"
     ]
    }
   ],
   "source": [
    "docs = load_documents_from_folder(folder_path)\n",
    "print(f\"📄 Loaded {len(docs)} documents.\")"
   ]
  },
  {
   "cell_type": "code",
   "execution_count": 14,
   "id": "6da9a2c0",
   "metadata": {},
   "outputs": [],
   "source": [
    "for doc in docs:\n",
    "    web_url = \"\"\n",
    "    web_url = doc.page_content[:400].split('\\n')[0][14:]\n",
    "    doc.metadata['webURL'] = web_url\n",
    "    "
   ]
  },
  {
   "cell_type": "code",
   "execution_count": 17,
   "id": "545054c9-566e-428d-acc5-6f1bb6d6c37e",
   "metadata": {
    "execution": {
     "iopub.execute_input": "2025-04-16T19:42:38.602593Z",
     "iopub.status.busy": "2025-04-16T19:42:38.602393Z",
     "iopub.status.idle": "2025-04-16T19:42:38.670840Z",
     "shell.execute_reply": "2025-04-16T19:42:38.669807Z",
     "shell.execute_reply.started": "2025-04-16T19:42:38.602576Z"
    },
    "trusted": true
   },
   "outputs": [
    {
     "name": "stdout",
     "output_type": "stream",
     "text": [
      "Split into 4716 chunks.\n"
     ]
    }
   ],
   "source": [
    "split_docs = split_documents(docs)\n",
    "print(f\"Split into {len(split_docs)} chunks.\")"
   ]
  },
  {
   "cell_type": "code",
   "execution_count": 18,
   "id": "8041c628",
   "metadata": {},
   "outputs": [
    {
     "data": {
      "text/plain": [
       "[Document(metadata={'source': 'Final_scraped_txts\\\\aaai.indiana.edu_.txt', 'webURL': 'https://aaai.indiana.edu/'}, page_content='[Source URL]: https://aaai.indiana.edu/'),\n",
       " Document(metadata={'source': 'Final_scraped_txts\\\\aaai.indiana.edu_.txt', 'webURL': 'https://aaai.indiana.edu/'}, page_content='Upcoming Events\\nApr\\n16\\nAAAI 50th Exhibit\\nApr\\n17\\nAAAI 50th Exhibit\\nApr\\n18\\nAAAI 50th Exhibit\\nApr\\n19\\nAAAI 50th Exhibit\\nApr\\n20\\nAAAI 50th Exhibit\\nApr\\n21\\nAAAI 50th Exhibit\\nApr\\n22\\nAAAI 50th Exhibit\\nApr\\n23\\nAAAI 50th Exhibit\\nApr\\n24\\nAAAI 50th Exhibit\\nApr\\n25\\nAAAI 50th Exhibit\\nApr\\n26\\nAAAI 50th Exhibit\\nApr\\n26\\nIU Soul Revue Spring Concert\\nApr\\n27\\nAAAI 50th Exhibit\\nApr\\n28\\nAAAI 50th Exhibit\\nApr\\n29\\nAAAI 50th Exhibit\\nApr\\n30\\nAAAI 50th Exhibit\\nMay\\n01\\nAAAI 50th Exhibit\\nMay\\n02\\nAAAI 50th Exhibit\\nMay\\n03\\nAAAI 50th Exhibit\\nMay\\n03\\nAfrican American Choral Ensemble Spring Concert\\nMay\\n04\\nAAAI 50th Exhibit\\nMay\\n05\\nAAAI 50th Exhibit\\nMay\\n06\\nAAAI 50th Exhibit\\nMay\\n07\\nAAAI 50th Exhibit\\nMay\\n08\\nAAAI 50th Exhibit\\nMay\\n09\\nAAAI 50th Exhibit\\nMay\\n10\\nAAAI 50th Exhibit\\nMay\\n11\\nAAAI 50th Exhibit\\nMay\\n12\\nAAAI 50th Exhibit\\nMay\\n13\\nAAAI 50th Exhibit\\nMay\\n14\\nAAAI 50th Exhibit\\nMay\\n15\\nAAAI 50th Exhibit\\nMay\\n16\\nAAAI 50th Exhibit\\nMay\\n17\\nAAAI 50th Exhibit\\nMay\\n18\\nAAAI 50th Exhibit\\nMay\\n19\\nAAAI 50th Exhibit\\nMay\\n20\\nAAAI 50th Exhibit\\nMay\\n21'),\n",
       " Document(metadata={'source': 'Final_scraped_txts\\\\aaai.indiana.edu_.txt', 'webURL': 'https://aaai.indiana.edu/'}, page_content='AAAI 50th Exhibit\\nMay\\n18\\nAAAI 50th Exhibit\\nMay\\n19\\nAAAI 50th Exhibit\\nMay\\n20\\nAAAI 50th Exhibit\\nMay\\n21\\nAAAI 50th Exhibit\\nMay\\n22\\nAAAI 50th Exhibit\\nMay\\n23\\nAAAI 50th Exhibit\\nMay\\n24\\nAAAI 50th Exhibit\\nMay\\n25\\nAAAI 50th Exhibit\\nMay\\n26\\nAAAI 50th Exhibit\\nMay\\n27\\nAAAI 50th Exhibit\\nMay\\n28\\nAAAI 50th Exhibit\\nMay\\n29\\nAAAI 50th Exhibit\\nMay\\n30\\nAAAI 50th Exhibit\\nMay\\n31\\nAAAI 50th Exhibit\\nJun\\n20\\nCamp S.O.U.L. 2025 Finale Concert\\n\"Celebrating 50 Years of Excellence in\\nAfrican American music, dance, and culture!\\n\"\\n(1974 - 2024)\\nTHE AFRICAN AMERICAN DANCE COMPANY PRESENTS:\\n\"JEWEL IN THE CROWN\"\\n\"The IU African American Dance Company\\'s 50 Year Shing Legacy In Still and Movement\"\\nMarch 24, 2025 - May 9, 2025\\nOpening Reception\\n: April 4th from 5 - 8 PM\\nSpecial Open Hours:\\nApril 11th - 12th, 12 - 7PM\\nLocation:\\n750 E. Kirkwood Ave. Bloomington, IN\\nGayle Karch Cook Center for Public Arts & Humanities at Maxwell Hall\\nLearn more about AADC\\'s 50th Anniversary!\\nWe Welcome Raymond Wise, Ph. D'),\n",
       " Document(metadata={'source': 'Final_scraped_txts\\\\aaai.indiana.edu_.txt', 'webURL': 'https://aaai.indiana.edu/'}, page_content=\"Learn more about AADC's 50th Anniversary!\\nWe Welcome Raymond Wise, Ph. D\\nWe are thrilled to announce that Prof. Raymond Wise will become the new executive director of the African American Arts Institute (AAAI) starting July 1. Prof. Wise, a renowned singer, dancer, pianist, composer, and choral director, has an extensive background in music education, performance, and composition, having earned advanced degrees from Denison University and The Ohio State University. He is a professor in the African American and African Diaspora Studies department and the associate director of the African American Arts Institute at Indiana University from 2018 - 2024.\\nLearn more about Prof. Wise\\nWe Thank and Honor Charles E. Sykes, D.M.E.\\nAfter 34 years of service, Charles Sykes will retire as executive director of the African American Arts Institute at Indiana University and will take on the role of historian. His contributions and influence are a critical part of the institute’s history.\"),\n",
       " Document(metadata={'source': 'Final_scraped_txts\\\\aaai.indiana.edu_.txt', 'webURL': 'https://aaai.indiana.edu/'}, page_content='Learn more about Prof. Sykes\\nAAAI releases its first album!\\nInspire Me is an album of 10 inspirational recorded by the award-winning African American Choral ensemble, composed and arranged by Raymond Wise, Ph.D.\\nPurchase NOW!\\nPerforming Ensembles\\nAfrican American Choral Ensemble\\nDirected by Raymond Wise\\nThe African American Choral Ensemble features a broad repertoire of African American choral music including spirituals, Gospel, and formally composed works.\\nLearn about the Choral Ensemble\\nAfrican American Dance Company\\nDirected by Stafford Berry\\nThe African American Dance Company shares dance of the American and African diaspora including African styles, contemporary, jazz, and other cultural forms.\\nLearn about the Dance Company\\nIU Soul Revue\\nDirected by James Strong'),\n",
       " Document(metadata={'source': 'Final_scraped_txts\\\\aaai.indiana.edu_.txt', 'webURL': 'https://aaai.indiana.edu/'}, page_content=\"Learn about the Dance Company\\nIU Soul Revue\\nDirected by James Strong\\nEstablished in 1971, the IU Soul Revue performs post-World War II Black popular music, from timeless R&B, soul, and funk to hip hop and other contemporary music styles. The ensemble includes vocals, horns, and rhythm sections.\\nLearn about the Soul Revue\\nJoin an Ensemble\\nLearn how to join one of our performing ensembles offered as courses through IU's Department of African American and African Diaspora Studies.\\nBook an Ensemble\\nOur ensembles perform at events and venues throughout the country, including colleges and universities, corporate events, conferences and festivals, and more.\\nWe promote and preserve Black culture through performance\\nSupport our mission\\nExplore our rich history\"),\n",
       " Document(metadata={'source': 'Final_scraped_txts\\\\abroad.iu.edu_about_staff_index.html.txt', 'webURL': 'https://abroad.iu.edu/about/staff/index.html'}, page_content='[Source URL]: https://abroad.iu.edu/about/staff/index.html\\n\\nHome\\nAbout Us\\nOffice Staff\\nOffice Staff\\nIU Education Abroad is the central home of Education Abroad for Indiana University as well as the\\nIU Honors Program in Foreign Languages\\nfor Indiana high school students. Our office is located on the Bloomington campus in the Ferguson International Center. While our office serves the entire IU system, students on other campuses are encouraged to contact their Campus Coordinators for basic information about studying abroad, or about programs available only on their campus.\\nText input:\\nFilter profiles by team\\nAll teams\\nAVP\\nDirectors\\nAdministration\\nEnrollment Management\\nFinance Team\\nHonors Program in Foreign Languages\\nFilter alphabetically\\nA\\nB\\nC\\nD\\nE\\nF\\nG\\nH\\nI\\nJ\\nK\\nL\\nM\\nN\\nO\\nP\\nQ\\nR\\nS\\nT\\nU\\nV\\nW\\nX\\nY\\nZ\\nGo\\nFilter selections\\n18\\nresults found\\nJennifer Engel, Ph.D.\\nAssociate Vice President for Education Abroad\\nEmail:\\nEmail:\\nengeljl@iu.edu\\nPhone:\\nPhone:'),\n",
       " Document(metadata={'source': 'Final_scraped_txts\\\\abroad.iu.edu_about_staff_index.html.txt', 'webURL': 'https://abroad.iu.edu/about/staff/index.html'}, page_content='812-855-1139\\nJenn provides strategic leadership for Education Abroad initiatives across Indiana University’s campuses and serves on the IU Global senior leadership team.\\nContact Jenn about:\\nEducation Abroad strategy and advocacy\\nPolicy generation, revision, and legal review\\nOverseas Study Advisory Council matters\\nExternal relations: international partnership, government, alumni, and advancement matters related to Education Abroad\\nOverall IU Education Abroad management and unit operations\\nSusan Carty\\nDirector of Compliance, Safety and Operations\\nEmail:\\nEmail:\\nscarty@iu.edu\\nPhone:\\nPhone:'),\n",
       " Document(metadata={'source': 'Final_scraped_txts\\\\abroad.iu.edu_about_staff_index.html.txt', 'webURL': 'https://abroad.iu.edu/about/staff/index.html'}, page_content='812-855-9305\\nSusan oversees compliance with IU Education Abroad policy, student safety and health abroad, and the effective utilization of the Education Abroad client relationship management system.\\nContact Susan about:\\nEducation Abroad policy compliance and questions concerning current policy\\nEmergency management and risk mitigation system-wide, including U.S. Department of State Level 3 exemption requests\\nRegional campus support and engagement with Education Abroad representatives and faculty at each IU campus\\nThe Education Abroad student application management system and associated data collection, analysis, and reporting\\nProgram development policies and procedures as well as faculty leader training\\nAmanda Roshan-Rawaan\\nDirector of Enrollment Management\\nEmail:\\nEmail:\\namarosha@iu.edu\\nPhone:\\nPhone:'),\n",
       " Document(metadata={'source': 'Final_scraped_txts\\\\abroad.iu.edu_about_staff_index.html.txt', 'webURL': 'https://abroad.iu.edu/about/staff/index.html'}, page_content='812-855-7588\\nAmanda is responsible for managing all aspects of marketing, recruitment, academic advising, and enrollment of students into Education Abroad programs for IUB and regional campuses.\\nContact Amanda about:\\nEducation Abroad marketing and recruitment initiatives\\nAcademic and Education Abroad program advisement and policy matters\\nEnrollment of students into Education Abroad programs and associated policy\\nProgram evaluation and the integrity of the student Education Abroad experience\\nElevated student concerns related to advisement and enrollment\\nMegan Solon\\nDirector, Honors Program in Foreign Languages\\nMegan is responsible for the direction and oversight of Indiana University’s\\nHonors Program in Foreign Languages\\n(HPFL), a summer language immersion program for Indiana high school students.\\nContact Megan about:\\nHigh school partnerships and collaboration\\nHPFL student eligibility and program policies')]"
      ]
     },
     "execution_count": 18,
     "metadata": {},
     "output_type": "execute_result"
    }
   ],
   "source": [
    "split_docs[:10]"
   ]
  },
  {
   "cell_type": "code",
   "execution_count": 19,
   "id": "4b93997a-68a9-4deb-bd90-03c65d92b6b4",
   "metadata": {
    "execution": {
     "iopub.execute_input": "2025-04-16T19:17:11.975786Z",
     "iopub.status.busy": "2025-04-16T19:17:11.975515Z",
     "iopub.status.idle": "2025-04-16T19:17:29.733195Z",
     "shell.execute_reply": "2025-04-16T19:17:29.732412Z",
     "shell.execute_reply.started": "2025-04-16T19:17:11.975769Z"
    },
    "trusted": true
   },
   "outputs": [
    {
     "name": "stderr",
     "output_type": "stream",
     "text": [
      "C:\\Users\\jgdsh\\AppData\\Local\\Temp\\ipykernel_20492\\2945905288.py:3: LangChainDeprecationWarning: The class `HuggingFaceEmbeddings` was deprecated in LangChain 0.2.2 and will be removed in 1.0. An updated version of the class exists in the :class:`~langchain-huggingface package and should be used instead. To use it run `pip install -U :class:`~langchain-huggingface` and import as `from :class:`~langchain_huggingface import HuggingFaceEmbeddings``.\n",
      "  return HuggingFaceEmbeddings(model_name=\"sentence-transformers/all-MiniLM-L6-v2\")\n"
     ]
    },
    {
     "name": "stdout",
     "output_type": "stream",
     "text": [
      "✅ FAISS index saved to 'faiss_index_luddy'\n"
     ]
    }
   ],
   "source": [
    "embeddings = get_embedding_model()\n",
    "save_to_faiss(split_docs, embeddings)"
   ]
  },
  {
   "cell_type": "code",
   "execution_count": 20,
   "id": "db0e871c-aae3-49e2-a4c0-27498f4e988e",
   "metadata": {
    "execution": {
     "iopub.execute_input": "2025-04-16T19:20:11.344597Z",
     "iopub.status.busy": "2025-04-16T19:20:11.344013Z",
     "iopub.status.idle": "2025-04-16T19:20:16.150050Z",
     "shell.execute_reply": "2025-04-16T19:20:16.149470Z",
     "shell.execute_reply.started": "2025-04-16T19:20:11.344576Z"
    },
    "trusted": true
   },
   "outputs": [],
   "source": [
    "# === Initializing re-ranker, embedding models and FAISS ===\n",
    "reranker_model = CrossEncoder(\"cross-encoder/ms-marco-MiniLM-L6-v2\")\n",
    "embedding_model = HuggingFaceEmbeddings(model_name=\"sentence-transformers/all-MiniLM-L6-v2\")\n",
    "db = FAISS.load_local(\"faiss_index_luddy\", embedding_model, allow_dangerous_deserialization = 'True')"
   ]
  },
  {
   "cell_type": "code",
   "execution_count": 21,
   "id": "08ac9de1-58a9-4060-af97-238f48d89a65",
   "metadata": {
    "execution": {
     "iopub.execute_input": "2025-04-16T19:20:23.194550Z",
     "iopub.status.busy": "2025-04-16T19:20:23.193798Z",
     "iopub.status.idle": "2025-04-16T19:20:23.199046Z",
     "shell.execute_reply": "2025-04-16T19:20:23.198397Z",
     "shell.execute_reply.started": "2025-04-16T19:20:23.194524Z"
    },
    "trusted": true
   },
   "outputs": [],
   "source": [
    "# === Function to perform hybrid search ===\n",
    "def hybrid_search(query, top_k=20):\n",
    "    semantic_results = db.similarity_search_with_score(query, k=top_k * 2)\n",
    "    keyword_filtered = [(doc, score) for doc, score in semantic_results if query.lower() in doc.page_content.lower()]\n",
    "    if len(keyword_filtered) >= top_k:\n",
    "        return keyword_filtered[:top_k]\n",
    "    else:\n",
    "        extra_needed = top_k - len(keyword_filtered)\n",
    "        additional = [item for item in semantic_results if item not in keyword_filtered]\n",
    "        return keyword_filtered + additional[:extra_needed]"
   ]
  },
  {
   "cell_type": "code",
   "execution_count": 38,
   "id": "d9cb74a6-b3c5-4dd1-988c-7c0f163facc4",
   "metadata": {
    "execution": {
     "iopub.execute_input": "2025-04-16T19:36:54.025791Z",
     "iopub.status.busy": "2025-04-16T19:36:54.025300Z",
     "iopub.status.idle": "2025-04-16T19:36:54.033456Z",
     "shell.execute_reply": "2025-04-16T19:36:54.032772Z",
     "shell.execute_reply.started": "2025-04-16T19:36:54.025769Z"
    },
    "trusted": true
   },
   "outputs": [],
   "source": [
    "# === Final answer generation function ===\n",
    "def generate_llama_answer(query, top_k=5, groq_api_key=None):\n",
    "    # Step 1: Retrieve top documents\n",
    "    hybrid_results = hybrid_search(query, top_k=20)\n",
    "    pairs = [(query, doc.page_content) for doc, _ in hybrid_results]\n",
    "\n",
    "    # Step 2: Rerank using cross-encoder\n",
    "    scores = reranker_model.predict(pairs)\n",
    "    reranked = list(zip([doc for doc, _ in hybrid_results], scores))\n",
    "    reranked.sort(key=lambda x: x[1], reverse=True)\n",
    "    top_docs = reranked[:top_k]\n",
    "    # print(top_docs[:1])\n",
    "\n",
    "    # Step 3: Create context and prompt\n",
    "    # context = \"\\n\\n\".join([doc.page_content for doc, _ in top_docs])\n",
    "    context = \"\\n\\n\".join([f\"Source: {doc.metadata.get('webURL', 'N/A')} \\n{doc.page_content}\"   for doc, _ in top_docs])\n",
    "    # print(\"LLama context: ----> \", context)\n",
    "    prompt = f\"\"\"Answer the following question in a clear and structured format based on the provided context. Please also provide with the necessary website links. Don't mention \"context\" or \"based on context\" in the response.\n",
    "            Context:{context}\n",
    "            Question: {query}\n",
    "            Answer:\"\"\"\n",
    "\n",
    "    # Step 4: Generate answer using Groq's LLaMA model\n",
    "    client = Groq(api_key=groq_api_key)\n",
    "    completion = client.chat.completions.create(\n",
    "        model=\"llama3-70b-8192\",\n",
    "        messages=[{\"role\": \"user\", \"content\": prompt}]\n",
    "    )\n",
    "\n",
    "    return completion.choices[0].message.content.strip()"
   ]
  },
  {
   "cell_type": "code",
   "execution_count": 40,
   "id": "9dff81e4-3ed2-4541-bc98-5fb8dc84b8f7",
   "metadata": {
    "execution": {
     "iopub.execute_input": "2025-04-16T19:37:43.664402Z",
     "iopub.status.busy": "2025-04-16T19:37:43.664143Z",
     "iopub.status.idle": "2025-04-16T19:37:44.885363Z",
     "shell.execute_reply": "2025-04-16T19:37:44.884808Z",
     "shell.execute_reply.started": "2025-04-16T19:37:43.664385Z"
    },
    "trusted": true
   },
   "outputs": [
    {
     "name": "stdout",
     "output_type": "stream",
     "text": [
      "Response :\n",
      " **Getting Academic Advising at Luddy**\n",
      "\n",
      "To get academic advising at Luddy, follow these steps:\n",
      "\n",
      "**For Current Luddy Students:**\n",
      "\n",
      "1. **Visit the Luddy Student Portal**: Find the advising or tutoring help you need through the portal ([Luddy Student Portal](https://luddy.indiana.edu/academics/advising.html)).\n",
      "2. **Schedule an Appointment**: Meet with your academic advisor online or in-person to discuss your goals, degree requirements, and career opportunities.\n",
      "\n",
      "**For Undergraduates Exploring Luddy Degrees:**\n",
      "\n",
      "1. **Schedule an Appointment with Maria Clor**: Use the Student Appointment Scheduler (SAS) and search for \"Maria Clor\" to schedule an appointment.\n",
      "2. **Indicate Intended Major and Notes**: Please indicate your intended major in the appointment reason field and any notes that you would like to discuss.\n",
      "\n",
      "**For Graduates:**\n",
      "\n",
      "1. **Contact Your Department**: You’ll have one or more advisors in your department. Learn more from your department about academic advising.\n",
      "\n",
      "**For Luddy Undergraduate Minors and Certificates:**\n",
      "\n",
      "1. **Schedule an Appointment with Anna Bednarski**: Contact Anna Bednarski, Associate Director and Student Services Generalist, to discuss Luddy undergraduate minors and certificates.\n",
      "\n",
      "**General Inquiries:**\n",
      "\n",
      "1. **Contact Luddy Advising**: Reach out to the Luddy School’s advising staff with any questions about Luddy or a specific program ([Contact Undergraduate Advising](https://informatics.indiana.edu/programs/bs-informatics/index.html)).\n",
      "2. **Talk to an Advisor or Recruiter**: Discuss your academic and career goals with a Luddy advisor or recruiter.\n",
      "\n",
      "Remember to visit the Luddy website ([Luddy School of Informatics, Computing, and Engineering](https://luddy.indiana.edu/)) for more information on academic advising and other resources.\n"
     ]
    }
   ],
   "source": [
    "# Mine - Groq API Key\n",
    "response = generate_llama_answer(\n",
    "    # query=\"What is the process to get academic advising at Luddy? Give me any links, pls\",\n",
    "    query=\"What is the process to get academic advising at Luddy?\",\n",
    "    groq_api_key=\"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\"\n",
    ")\n",
    "\n",
    "print(\"Response :\\n\", response)"
   ]
  },
  {
   "cell_type": "markdown",
   "id": "5517d6c9",
   "metadata": {},
   "source": [
    "Response :\n",
    "\n",
    " **Getting Academic Advising at Luddy**\n",
    "\n",
    "**Current Luddy Students**\n",
    "\n",
    "1. Visit the Luddy Student Portal to find the advising or tutoring help you need.\n",
    "\n",
    "**Undergraduates**\n",
    "\n",
    "1. Schedule an appointment with Maria Clor using the Student Appointment Scheduler (SAS) and searching for \"Maria Clor.\"\n",
    "2. Indicate your intended major in the appointment reason field and any notes you would like to discuss.\n",
    "\n",
    "**Graduates**\n",
    "\n",
    "1. You'll have one or more advisors in your department. Learn more from your department.\n",
    "2. Contact gradvise@iu.edu (in-person students) or siceooe@iu.edu (online students).\n",
    "\n",
    "**Luddy Undergraduate Minors and Certificates**\n",
    "\n",
    "1. Schedule an appointment with Anna Bednarski, Associate Director and Student Services Generalist.\n",
    "\n",
    "**General Inquiries**\n",
    "\n",
    "1. Contact Luddy undergraduate advising for any questions about Luddy or a specific program.\n",
    "2. Talk to an advisor or a recruiter for more information."
   ]
  },
  {
   "cell_type": "markdown",
   "id": "0c065f43",
   "metadata": {},
   "source": []
  },
  {
   "cell_type": "markdown",
   "id": "28cfe754",
   "metadata": {},
   "source": [
    "Response :\n",
    "\n",
    " The process to get academic advising at Luddy is as follows:\n",
    "\n",
    "**For Undergraduates:**\n",
    "\n",
    "1. Schedule an appointment with Maria Clor using the Student Appointment Scheduler (SAS) and searching for \"Maria Clor\".\n",
    "2. Indicate your intended major in the appointment reason field and any notes that you would like to discuss.\n",
    "\n",
    "**For Graduates:**\n",
    "\n",
    "1. Reach out to your department to learn more about your advisor(s).\n",
    "2. Contact gradvise@iu.edu for in-person students or siceooe@iu.edu for online students.\n",
    "\n",
    "**For Luddy Undergraduate Minors and Certificates:**\n",
    "\n",
    "1. Schedule an appointment with Anna Bednarski, Associate Director and Student Services Generalist.\n",
    "\n",
    "**Additional Resources:**\n",
    "\n",
    "* Visit the Luddy Student Portal to find the advising or tutoring help you need.\n",
    "* Contact undergraduate advising for any questions about Luddy or a specific program.\n",
    "* Talk to an advisor or recruiter for further guidance."
   ]
  },
  {
   "cell_type": "code",
   "execution_count": null,
   "id": "bf09b034-673a-45ce-88c9-f8bf77fc656f",
   "metadata": {
    "trusted": true
   },
   "outputs": [],
   "source": []
  },
  {
   "cell_type": "markdown",
   "id": "1066f2d2",
   "metadata": {},
   "source": [
    "# Response with links:\n",
    "\n",
    " Here is the process to get academic advising at Luddy:\n",
    "\n",
    "**Step 1: Identify Your Needs**\n",
    "Determine what you need help with, such as understanding degree requirements, choosing classes, or exploring career opportunities.\n",
    "\n",
    "**Step 2: Access the Luddy Student Portal**\n",
    "Visit the [Luddy Student Portal](https://luddy.indiana.edu/academics/advising.html) to find the advising or tutoring help you need.\n",
    "\n",
    "**Step 3: Meet with an Advisor**\n",
    "* **Undergraduates**: Schedule an appointment with Maria Clor using the Student Appointment Scheduler (SAS) and searching for \"Maria Clor.\" Indicate your intended major in the appointment reason field and any notes you'd like to discuss.\n",
    "* **Graduates**: Contact your department to learn more about your advisors and schedule a meeting.\n",
    "* **Non-Luddy Students**: If you're majoring in a non-Luddy degree and are earning an undergraduate Luddy minor or certificate, schedule an appointment with Anna Bednarski, Associate Director and Student Services Generalist.\n",
    "\n",
    "**Step 4: Prepare for Your Meeting**\n",
    "Come prepared to discuss your goals, questions, and concerns with your advisor.\n",
    "\n",
    "**Additional Resources**\n",
    "\n",
    "* For career coaching and other services, visit [Luddy Career Services](https://luddy.indiana.edu/academics/advising.html#nonsice).\n",
    "* For Luddy undergraduate minors and certificates, contact Anna Bednarski.\n",
    "* For general advising inquiries, contact [undergraduate advising](https://informatics.indiana.edu/programs/bs-informatics/index.html).\n",
    "\n",
    "Remember, your Luddy advisor is an expert on Luddy, IU, and you, so don't hesitate to reach out for guidance throughout your academic journey!"
   ]
  },
  {
   "cell_type": "markdown",
   "id": "2d48e8bc",
   "metadata": {},
   "source": []
  },
  {
   "cell_type": "markdown",
   "id": "6eb7fe5f",
   "metadata": {},
   "source": [
    "Response :\n",
    " **Getting Academic Advising at Luddy**\n",
    "\n",
    "To get academic advising at Luddy, follow these steps:\n",
    "\n",
    "**For Current Luddy Students:**\n",
    "\n",
    "1. **Visit the Luddy Student Portal**: Find the advising or tutoring help you need through the portal ([Luddy Student Portal](https://luddy.indiana.edu/academics/advising.html)).\n",
    "2. **Schedule an Appointment**: Meet with your academic advisor online or in-person to discuss your goals, degree requirements, and career opportunities.\n",
    "\n",
    "**For Undergraduates Exploring Luddy Degrees:**\n",
    "\n",
    "1. **Schedule an Appointment with Maria Clor**: Use the Student Appointment Scheduler (SAS) and search for \"Maria Clor\" to schedule an appointment.\n",
    "2. **Indicate Intended Major and Notes**: Please indicate your intended major in the appointment reason field and any notes that you would like to discuss.\n",
    "\n",
    "**For Graduates:**\n",
    "\n",
    "1. **Contact Your Department**: You’ll have one or more advisors in your department. Learn more from your department about academic advising.\n",
    "\n",
    "**For Luddy Undergraduate Minors and Certificates:**\n",
    "\n",
    "1. **Schedule an Appointment with Anna Bednarski**: Contact Anna Bednarski, Associate Director and Student Services Generalist, to discuss Luddy undergraduate minors and certificates.\n",
    "\n",
    "**General Inquiries:**\n",
    "\n",
    "1. **Contact Luddy Advising**: Reach out to the Luddy School’s advising staff with any questions about Luddy or a specific program ([Contact Undergraduate Advising](https://informatics.indiana.edu/programs/bs-informatics/index.html)).\n",
    "2. **Talk to an Advisor or Recruiter**: Discuss your academic and career goals with a Luddy advisor or recruiter.\n",
    "\n",
    "Remember to visit the Luddy website ([Luddy School of Informatics, Computing, and Engineering](https://luddy.indiana.edu/)) for more information on academic advising and other resources."
   ]
  },
  {
   "cell_type": "markdown",
   "id": "c12a482b",
   "metadata": {},
   "source": []
  }
 ],
 "metadata": {
  "kaggle": {
   "accelerator": "gpu",
   "dataSources": [
    {
     "datasetId": 7164708,
     "sourceId": 11438010,
     "sourceType": "datasetVersion"
    }
   ],
   "dockerImageVersionId": 31011,
   "isGpuEnabled": true,
   "isInternetEnabled": true,
   "language": "python",
   "sourceType": "notebook"
  },
  "kernelspec": {
   "display_name": ".final",
   "language": "python",
   "name": "python3"
  },
  "language_info": {
   "codemirror_mode": {
    "name": "ipython",
    "version": 3
   },
   "file_extension": ".py",
   "mimetype": "text/x-python",
   "name": "python",
   "nbconvert_exporter": "python",
   "pygments_lexer": "ipython3",
   "version": "3.10.10"
  }
 },
 "nbformat": 4,
 "nbformat_minor": 5
}
